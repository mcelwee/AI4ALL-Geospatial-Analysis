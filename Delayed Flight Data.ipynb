{
 "cells": [
  {
   "cell_type": "markdown",
   "metadata": {
    "_uuid": "bd935a6eec9ac47d599f381963121a2d7f53e8d0"
   },
   "source": [
    "## According to a 2010 report made by the US Federal Aviation Administration, the economic price of domestic flight delays entails a yearly cost of 32.9 billion dollars to passengers, airlines and other parts of the economy. More than half of that amount comes from the pockets of passengers who not only lose time waiting for their planes to leave, but they also miss connecting flights, spend money on food and have to sleep on hotel rooms while they're stranded. \n",
    "\n",
    "## The report, focusing on data from year 2007, estimated that air transportation delays put a 4 billion dollar dent in the country's gross domestic product that year. Full report can be found [here](http://www.isr.umd.edu/NEXTOR/pubs/TDI_Report_Final_10_18_10_V3.pdf).\n",
    "\n",
    "## But, what are the causes for these delays?\n",
    "\n",
    "### In order to answer this question, we are going to analyze the provided dataset, containing up to 1.936.758 different internal flights in the US for 2008 and their causes for delay, diversion and cancellation; if any. \n",
    "\n",
    "### The data comes from the U.S. Department of Transportation's (DOT) Bureau of Transportation Statistics (BTS). \n",
    "\n",
    "### The results are tentative.\n"
   ]
  },
  {
   "cell_type": "markdown",
   "metadata": {
    "_uuid": "01d6dd47af658d1bb573693108a335891bae2cf6"
   },
   "source": [
    "# This dataset is composed by the following variables: \n",
    "\n",
    "1.\t**Year**\t2008\n",
    "2.\t**Month**\t1-12\n",
    "3.\t**DayofMonth**\t1-31\n",
    "4.\t**DayOfWeek**\t1 (Monday) - 7 (Sunday)\n",
    "5.\t**DepTime**\tactual departure time (local, hhmm)\n",
    "6.\t**CRSDepTime**\tscheduled departure time (local, hhmm)\n",
    "7.\t**ArrTime**\tactual arrival time (local, hhmm)\n",
    "8.\t**CRSArrTime**\tscheduled arrival time (local, hhmm)\n",
    "9.\t**UniqueCarrier**\tunique carrier code\n",
    "10.\t**FlightNum**\tflight number\n",
    "11.\t**TailNum** plane tail number: aircraft registration, unique aircraft identifier\n",
    "12.\t**ActualElapsedTime**\tin minutes\n",
    "13.\t**CRSElapsedTime**\tin minutes\n",
    "14.\t**AirTime**\tin minutes\n",
    "15.\t**ArrDelay**\tarrival delay, in minutes: **A flight is counted as \"on time\" if it operated less than 15 minutes later the scheduled time shown in the carriers' Computerized Reservations Systems (CRS).** \n",
    "16.\t**DepDelay**\tdeparture delay, in minutes\n",
    "17.\t**Origin**\torigin IATA airport code\n",
    "18.\t**Dest**\tdestination IATA airport code\n",
    "19.\t**Distance**\tin miles\n",
    "20.\t**TaxiIn**\ttaxi in time, in minutes\n",
    "21.\t**TaxiOut**\ttaxi out time in minutes\n",
    "22.\t**Cancelled**\t*was the flight cancelled\n",
    "23.\t**CancellationCode**\treason for cancellation (A = carrier, B = weather, C = NAS, D = security)\n",
    "24.\t**Diverted**\t1 = yes, 0 = no\n",
    "25.\t**CarrierDelay**\tin minutes: Carrier delay is within the control of the air carrier. Examples of occurrences that may determine carrier delay are: aircraft cleaning, aircraft damage, awaiting the arrival of connecting passengers or crew, baggage, bird strike, cargo loading, catering, computer, outage-carrier equipment, crew legality (pilot or attendant rest), damage by hazardous goods, engineering inspection, fueling, handling disabled passengers, late crew, lavatory servicing, maintenance, oversales, potable water servicing, removal of unruly passenger, slow boarding or seating, stowing carry-on baggage, weight and balance delays.\n",
    "26.\t**WeatherDelay**\tin minutes: Weather delay is caused by extreme or hazardous weather conditions that are forecasted or manifest themselves on point of departure, enroute, or on point of arrival.\n",
    "27.\t**NASDelay**\tin minutes: Delay that is within the control of the National Airspace System (NAS) may include: non-extreme weather conditions, airport operations, heavy traffic volume, air traffic control, etc. \n",
    "28.\t**SecurityDelay**\tin minutes: Security delay is caused by evacuation of a terminal or concourse, re-boarding of aircraft because of security breach, inoperative screening equipment and/or long lines in excess of 29 minutes at screening areas.\n",
    "29.\t**LateAircraftDelay**\tin minutes: Arrival delay at an airport due to the late arrival of the same aircraft at a previous airport. The ripple effect of an earlier delay at downstream airports is referred to as delay propagation."
   ]
  },
  {
   "cell_type": "markdown",
   "metadata": {
    "_uuid": "af6c061d2d639814dd953c754273474500ffc539"
   },
   "source": [
    "# 1. Understanding and preparing the the data"
   ]
  },
  {
   "cell_type": "code",
   "execution_count": 1,
   "metadata": {
    "_uuid": "a786cef61cf19cb8e7ba35cd2b270b178c48fafa"
   },
   "outputs": [],
   "source": [
    "#import needed libraries \n",
    "from pandas import read_csv"
   ]
  },
  {
   "cell_type": "code",
   "execution_count": null,
   "metadata": {},
   "outputs": [],
   "source": [
    "# Reading and showing head data\n",
    "\n",
    "data = read_csv(\"../input/DelayedFlights.csv\")\n",
    "flights.head()"
   ]
  },
  {
   "cell_type": "markdown",
   "metadata": {
    "_uuid": "c6c245845f3f4fd2efbd5162d0323129a097e3ff",
    "collapsed": true
   },
   "source": [
    "# 2. Exploratory Data analysis"
   ]
  },
  {
   "cell_type": "code",
   "execution_count": null,
   "metadata": {},
   "outputs": [],
   "source": [
    "Perform explorartory data analysis of your choice (#Consider location and number of flights for answering part one of question.)"
   ]
  },
  {
   "cell_type": "markdown",
   "metadata": {},
   "source": [
    "# 3. Classification Analysis"
   ]
  },
  {
   "cell_type": "code",
   "execution_count": 6,
   "metadata": {},
   "outputs": [],
   "source": [
    "# Importing metrics for evaluation\n",
    "from sklearn.metrics import confusion_matrix\n",
    "from sklearn.metrics import classification_report"
   ]
  },
  {
   "cell_type": "code",
   "execution_count": null,
   "metadata": {},
   "outputs": [],
   "source": [
    "# Seperating the data into dependent and independent variables\n",
    "X = dataset.iloc[:, :-1].values\n",
    "y = dataset.iloc[:, -1].values\n",
    "\n",
    "# Splitting the dataset into the Training set and Test set\n",
    "from sklearn.cross_validation import train_test_split\n",
    "X_train, X_test, y_train, y_test = train_test_split(X, y, test_size = 0.2, random_state = 0)"
   ]
  }
 ],
 "metadata": {
  "kernelspec": {
   "display_name": "Python 3",
   "language": "python",
   "name": "python3"
  },
  "language_info": {
   "codemirror_mode": {
    "name": "ipython",
    "version": 3
   },
   "file_extension": ".py",
   "mimetype": "text/x-python",
   "name": "python",
   "nbconvert_exporter": "python",
   "pygments_lexer": "ipython3",
   "version": "3.6.5"
  }
 },
 "nbformat": 4,
 "nbformat_minor": 1
}
